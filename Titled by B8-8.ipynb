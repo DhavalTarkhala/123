{
 "cells": [
  {
   "cell_type": "markdown",
   "metadata": {},
   "source": [
    "## Dictionary"
   ]
  },
  {
   "cell_type": "code",
   "execution_count": 23,
   "metadata": {},
   "outputs": [
    {
     "name": "stdout",
     "output_type": "stream",
     "text": [
      "10  -  ABC\n",
      "20  -  B\n",
      "30  -  C\n"
     ]
    }
   ],
   "source": [
    "d = {10:\"A\", 20: \"B\", 30: \"C\", 10:\"B\"}\n",
    "d[10] = \"ABC\"\n",
    "\n",
    "\n",
    "for i in d:\n",
    "    print(i,\" - \", d[i])"
   ]
  },
  {
   "cell_type": "markdown",
   "metadata": {},
   "source": [
    "## Set"
   ]
  },
  {
   "cell_type": "code",
   "execution_count": 48,
   "metadata": {
    "scrolled": true
   },
   "outputs": [
    {
     "name": "stdout",
     "output_type": "stream",
     "text": [
      "{1, 2, 3, 4, 5, 6}\n"
     ]
    }
   ],
   "source": [
    "set1 = {'apple', 'banana', 'chikku', 'cherry', 'orange'}\n",
    "# print(set1)\n",
    "\n",
    "set2 = {1,2,3,4,5,1,2,3,6}\n",
    "print(set2)"
   ]
  },
  {
   "cell_type": "code",
   "execution_count": 111,
   "metadata": {},
   "outputs": [
    {
     "name": "stdout",
     "output_type": "stream",
     "text": [
      "30 1010101010101010101010101010101010101010\n"
     ]
    }
   ],
   "source": [
    "x = str()\n",
    "# print(x)\n",
    "\n",
    "y = 1,2,3\n",
    "# print(y)\n",
    "\n",
    "a,b,c = 10,20,30\n",
    "_a,_b,_c = \"10\",20,\"30\"\n",
    "print(a+b, _a*_b)"
   ]
  },
  {
   "cell_type": "markdown",
   "metadata": {},
   "source": [
    "## Scope of variable"
   ]
  },
  {
   "cell_type": "code",
   "execution_count": 125,
   "metadata": {},
   "outputs": [
    {
     "name": "stdout",
     "output_type": "stream",
     "text": [
      "B\n",
      "B\n"
     ]
    }
   ],
   "source": [
    "a = \"A\"\n",
    "def demo():\n",
    "    global a \n",
    "    a = \"B\"\n",
    "    print(a)\n",
    "demo()\n",
    "print(a)\n",
    "\n"
   ]
  },
  {
   "cell_type": "markdown",
   "metadata": {},
   "source": [
    "## Input from user"
   ]
  },
  {
   "cell_type": "code",
   "execution_count": 137,
   "metadata": {
    "scrolled": true
   },
   "outputs": [
    {
     "name": "stdout",
     "output_type": "stream",
     "text": [
      "num 1: 10\n",
      "num 2: 30\n",
      "Sum:  40\n"
     ]
    }
   ],
   "source": [
    "n1 = int(input((\"num 1: \")))\n",
    "n2 = int(input((\"num 2: \")))\n",
    "print(\"Sum: \", n1+n2)"
   ]
  },
  {
   "cell_type": "markdown",
   "metadata": {},
   "source": [
    "## Type casting"
   ]
  },
  {
   "cell_type": "code",
   "execution_count": 163,
   "metadata": {
    "scrolled": true
   },
   "outputs": [
    {
     "name": "stdout",
     "output_type": "stream",
     "text": [
      "123\n",
      "45.0\n",
      "1.0\n",
      "0.0\n",
      "[1, 2, 3]\n"
     ]
    }
   ],
   "source": [
    "print(int(123.321))\n",
    "# print(int('123.5'))\n",
    "# print(int(0b101101))\n",
    "# print(int(True))\n",
    "# print(int(False))\n",
    "\n",
    "#Float\n",
    "print(float(0b101101))\n",
    "print(float(True))\n",
    "print(float(False))\n",
    "\n",
    "x = (1,2,3)\n",
    "_x = list(x)\n",
    "print(_x)\n"
   ]
  },
  {
   "cell_type": "markdown",
   "metadata": {},
   "source": [
    "# Operators"
   ]
  },
  {
   "cell_type": "markdown",
   "metadata": {},
   "source": [
    "## Arithmetic Operators"
   ]
  },
  {
   "cell_type": "code",
   "execution_count": 192,
   "metadata": {},
   "outputs": [
    {
     "name": "stdout",
     "output_type": "stream",
     "text": [
      "Num 1:           10\n",
      "Num 2:           2\n",
      "Sumation:        12\n",
      "Substraction:    8\n",
      "Division:        5.0\n",
      "Floor division:  5\n",
      "Modulo:          0\n",
      "Exponential:     100\n"
     ]
    }
   ],
   "source": [
    "a = int(input(\"Num 1:           \"))\n",
    "b = int(input(\"Num 2:           \"))\n",
    "print(\"Sumation:       \", a+b)\n",
    "print(\"Substraction:   \", a-b)\n",
    "print(\"Division:       \", a/b)\n",
    "print(\"Floor division: \", a//b)\n",
    "print(\"Modulo:         \", a%b)\n",
    "print(\"Exponential:    \", a**b)"
   ]
  },
  {
   "cell_type": "markdown",
   "metadata": {},
   "source": [
    "## Comparison Operator"
   ]
  },
  {
   "cell_type": "code",
   "execution_count": 182,
   "metadata": {},
   "outputs": [
    {
     "name": "stdout",
     "output_type": "stream",
     "text": [
      "True\n"
     ]
    }
   ],
   "source": [
    "x = \"abc\"\n",
    "y = \"ABC\"\n",
    "print(a>b)"
   ]
  },
  {
   "cell_type": "markdown",
   "metadata": {},
   "source": [
    "## Logical Operator"
   ]
  },
  {
   "cell_type": "code",
   "execution_count": 208,
   "metadata": {},
   "outputs": [
    {
     "name": "stdout",
     "output_type": "stream",
     "text": [
      "10\n"
     ]
    }
   ],
   "source": [
    "# if (100>20 or 'a'=='a'):\n",
    "#     print(\"True\")\n",
    "    \n",
    "# print(not False)\n",
    "# print(10 and 20)\n",
    "# print(not 0)\n",
    "a = 10 if 5>4 else 90\n",
    "print(a)"
   ]
  },
  {
   "cell_type": "markdown",
   "metadata": {},
   "source": [
    "## Swap"
   ]
  },
  {
   "cell_type": "code",
   "execution_count": 215,
   "metadata": {},
   "outputs": [
    {
     "name": "stdout",
     "output_type": "stream",
     "text": [
      "Num 1: 10\n",
      "Num 2: 20\n",
      "a-> 20  b->  10\n"
     ]
    }
   ],
   "source": [
    "a = int(input(\"Num 1: \"))   #5\n",
    "b = int(input(\"Num 2: \"))   #20\n",
    "# temp = a\n",
    "# a = b\n",
    "# b = temp\n",
    "# print(\"Swapped data:\", \"a - \" , a, \" b - \" , b)\n",
    "a = a+b  # b=20 a = 5\n",
    "b = a-b\n",
    "a = a-b\n",
    "print(\"a->\", a, \" b-> \", b)"
   ]
  },
  {
   "cell_type": "markdown",
   "metadata": {},
   "source": [
    "## Membership Operator"
   ]
  },
  {
   "cell_type": "code",
   "execution_count": 18,
   "metadata": {},
   "outputs": [
    {
     "name": "stdout",
     "output_type": "stream",
     "text": [
      "1\n",
      "True\n",
      "True\n",
      "True\n"
     ]
    }
   ],
   "source": [
    "x = [10,20,30]\n",
    "if(100 not in x):\n",
    "    print(1)\n",
    "y = 'Python Java Node'\n",
    "print('a' in y)\n",
    "print(\"1\" in \"213\")"
   ]
  },
  {
   "cell_type": "markdown",
   "metadata": {},
   "source": [
    "## Operator Precedence and Associativity"
   ]
  },
  {
   "cell_type": "code",
   "execution_count": 28,
   "metadata": {
    "scrolled": false
   },
   "outputs": [
    {
     "name": "stdout",
     "output_type": "stream",
     "text": [
      "False\n",
      "True\n",
      "0.0\n"
     ]
    }
   ],
   "source": [
    "# print(3+10*2)\n",
    "# print((3+10)*2)\n",
    "# print(5**3**2*5/True)\n",
    "print(\"1\" in \"123\" and \"False\" or True) \n",
    "print(5 and True or 3/0)\n",
    "print(7*5**2/True*False)"
   ]
  },
  {
   "cell_type": "code",
   "execution_count": 68,
   "metadata": {},
   "outputs": [
    {
     "name": "stdout",
     "output_type": "stream",
     "text": [
      "Enter amount: 560\n",
      "1   0   0   1   1\n"
     ]
    }
   ],
   "source": [
    "# h = int(input(\"Enter height: \"))\n",
    "# b = int(input(\"Enter base: \"))\n",
    "# area = (1/2)*b*h\n",
    "# print(\"Area = \" , area)\n",
    "\n",
    "# f = float(input(\"Enter temperature: \"))\n",
    "# base = input(\"Press 1 for celsius and 2 for ferhenaite: \")\n",
    "# result = (f-32)*(5/9) if base == \"1\" else (9/5)*f+32\n",
    "\n",
    "# print(result, \"21 LPA\")\n",
    "\n",
    "\n",
    "############# Convert given days into year - month - days\n",
    "# days = int(input(\"Enter days: \"))\n",
    "# year = (days//365)\n",
    "# months = (days % 365)//30  # 450- 365 = 85\n",
    "# days = days - (year*365) - (months*30)\n",
    "# print(year,\" Year \", months, \" Month \" , days, \" Day \")\n",
    "\n",
    "############# Write a python program to check if the given number is positive or negative\n",
    "# x = int(input(\"Enter number: \" ))\n",
    "# result = \"Positive\" if x>=0 else \"Negative\"\n",
    "# print(result)\n",
    "\n",
    "############# Write a python program to find number of notes against a given amount : 10 - 20 - 50 - 100 - 200 - 500\n",
    "amount = int(input(\"Enter amount: \"))\n",
    "_500h = (amount // 500)                   # 1\n",
    "_200h = (amount % 500) // 200             # \n",
    "_100h = ((amount % 500 ) % 200) // 100    # 800-200 = \n",
    "_50h = ((amount%500)%200%100) // 50\n",
    "_10h = (amount%500%200%100%50) // 10\n",
    "\n",
    "print(_500h, \" \" ,_200h, \" \", _100h, \" \", _50h, \" \" , _10h)\n"
   ]
  },
  {
   "cell_type": "markdown",
   "metadata": {},
   "source": [
    "# Unit 2"
   ]
  },
  {
   "cell_type": "code",
   "execution_count": 89,
   "metadata": {},
   "outputs": [
    {
     "name": "stdout",
     "output_type": "stream",
     "text": [
      "Enter A: 10\n",
      "Enter B: 10\n",
      "Enter C: 10\n",
      "All are equals\n"
     ]
    }
   ],
   "source": [
    "# uname = input(\"Enter your name: \")\n",
    "# if (\"ceo\" in uname):  \n",
    "#     print(\"Welcome\")\n",
    "# elif (\"manager\" in uname):\n",
    "#     print(\"Limited access\")\n",
    "# else: \n",
    "#     print(\"Access denied\")\n",
    "\n",
    "a = int(input(\"Enter A: \"))\n",
    "b = int(input(\"Enter B: \"))\n",
    "c = int(input(\"Enter C: \"))\n",
    "\n",
    "if(a > b) and (a>c):\n",
    "    print(\"A is greatest\")\n",
    "elif (b>a) and (b>c):\n",
    "    print(\"B is greatest\")\n",
    "elif (a==b==b):\n",
    "    print(\"All are equals\")\n",
    "else:\n",
    "    print(\"C is greatest\")"
   ]
  },
  {
   "cell_type": "code",
   "execution_count": 48,
   "metadata": {},
   "outputs": [
    {
     "name": "stdout",
     "output_type": "stream",
     "text": [
      "Start Number: 0\n",
      "End Number: 50\n",
      "0\n",
      "1\n",
      "2\n",
      "3\n",
      "5\n",
      "7\n",
      "11\n",
      "13\n",
      "17\n",
      "19\n",
      "23\n",
      "29\n",
      "31\n",
      "37\n",
      "41\n",
      "43\n",
      "47\n"
     ]
    }
   ],
   "source": [
    "############# Write a python program to check wheather the given year is leap year or not\n",
    "\n",
    "# year = int(input(\"Enter year: \"))\n",
    "# if(year%4==0 and (year%100 !=0) or year%400==0):\n",
    "#     print(\"This is a leap year\")\n",
    "# else:\n",
    "#     print(\"Not a leap year\")\n",
    "\n",
    "\n",
    "############# WAPP to perform arithmetic opertation according to the sign gives as choice\n",
    "# num1 = int(input(\"Enter num 1: \"))\n",
    "# num2 = int(input(\"Enter num 2: \"))\n",
    "# sign = input(\"Enter sign: \")\n",
    "# print(\"----------------------------------\")\n",
    "# if(sign=='+'):\n",
    "#     print(f\"{num1 }+{ num2 } = {num1+num2}\")\n",
    "# elif(sign=='-'):\n",
    "#     print(f\"{num1 }-{ num2 } = {num1-num2}\")\n",
    "# elif(sign=='*'):\n",
    "#     print(f\"{num1 }*{ num2 } = {num1*num2}\")\n",
    "# elif(sign=='/'):\n",
    "#     print(f\"{num1 }/{ num2 } = {num1/num2}\")\n",
    "# elif(sign=='**'):\n",
    "#     print(f\"{num1 }**{ num2 } = {num1**num2}\")\n",
    "# elif(sign=='//'):\n",
    "#     print(f\"{num1 }//{ num2} = {num1//num2}\")\n",
    "# else:\n",
    "#     print(\"Invalid sign\")\n",
    "    \n",
    "############# WAPP to enter 3 subjects marks, \n",
    "#             to calculate the percentage and display the grid according to the percentage\n",
    "\n",
    "# s1 = float(input(\"Enter subject 1: \"))\n",
    "# s2 = float(input(\"Enter subject 2: \"))\n",
    "# s3 = float(input(\"Enter subject 3: \"))\n",
    "# percent = ((s1+s2+s3)/300)*100\n",
    "# print(percent)\n",
    "# if(percent >= 80):\n",
    "#     print(\"Distinction\")\n",
    "# elif(percent >=60 and percent<80):\n",
    "#     print(\"First class\")\n",
    "# elif(percent >=35 and percent<60):\n",
    "#     print(\"Second class\")\n",
    "# elif(percent >=0 and percent<35):\n",
    "#     print(\"Fail\")\n",
    "\n",
    "############# WAPP to check whether the last digit of a number entered by user is divisible by 3 or not\n",
    "# s1 = int(input(\"Enter num: \"))\n",
    "# ld = print(\"Divisible by 3\") if ((s1%10)%3==0) else print(\"Not divisible  \")\n",
    "\n",
    "\n",
    "############# WAPP to calculate the electricity bill accept number of units from user\n",
    "# units = int(input(\"Enter electricity units: \"))\n",
    "# if(units <= 100):\n",
    "#     print(\"No charge\")\n",
    "# elif(units > 100 and units < 200):\n",
    "#     newunits = (units - 100)\n",
    "#     print(newunits*5)\n",
    "# elif(units >= 200):\n",
    "#     newunits200 = units-200\n",
    "#     print(newunits200*10+500)\n",
    "\n",
    "\n",
    "\n",
    "\n",
    "\n",
    "############# WAPP to accept cost price of a bike and calculate the road tax to be paid, \n",
    "# also display the total price of the bike\n",
    "\n",
    "# price = int(input(\"Enter price of the bike: \"))\n",
    "# road_tax = 0\n",
    "# if(price <= 5000):\n",
    "#     road_tax = price*0.05\n",
    "# if(price > 50000 and price <= 100000):\n",
    "#     road_tax = price*0.10\n",
    "# if(price > 100000 ):\n",
    "#     road_tax = price*0.15\n",
    "\n",
    "# print(f\"Road tax =               {road_tax} \")\n",
    "# print(\"--------------------------------------\")\n",
    "# print(f\"Total cost of bike =     {price+road_tax}\")\n",
    "\n",
    "\n",
    "\n",
    "\n",
    "############# WAPP to find lenth of number without using length\n",
    "\n",
    "# num = int(input(\"Enter number: \"))             #123\n",
    "\n",
    "# length = 0\n",
    "\n",
    "# while(num>0):\n",
    "#     num = num // 10\n",
    "#     length += 1\n",
    "\n",
    "# print(length)\n",
    "\n",
    "\n",
    "\n",
    "############# WAPP to check the number entered is 3 digit number or not, if the number is 3 digit\n",
    "# 3 then display the middle digit of that number otherwise  display entered 3 digit number only \n",
    "\n",
    "# num = float(input(\"Enter number: \"))             #123\n",
    "# temp = num\n",
    "# length = 0\n",
    "\n",
    "# while(num>0):\n",
    "#     num = num // 10\n",
    "#     length += 1\n",
    "\n",
    "# if(length==3):\n",
    "#     print((temp//10)%10)\n",
    "# else:\n",
    "#     print(f\"Not a 3 digit\")\n",
    "\n",
    "                                                            \n",
    "\n",
    "    \n",
    "    \n",
    "############# WAPP to accept the following from user and calculate the percentage of class attendace,\n",
    "# if percentag is less than 75% \n",
    "# total = int(input(\"Total working days: \"))\n",
    "# ab = int(input(\"Absent days: \"))\n",
    "# print(\"--------------------------------------\")\n",
    "# percent = int((total-ab)/total*100)\n",
    "# print(f\"Total present: {percent} %\")\n",
    "# if(percent >= 75):\n",
    "#     print(\"Elegible for exam\")\n",
    "# else:\n",
    "#     print(\"Not elegible for exam\")\n",
    "\n",
    "\n",
    "\n",
    "############# WAPP to display fibonacci sequence upto n term\n",
    "# num = int(input(\"Number: \"))\n",
    "\n",
    "# n1 = 0\n",
    "# n2 = 1\n",
    "# print(n1)\n",
    "# print(n2)\n",
    "# if(num<=0):\n",
    "#     print(\"Please enter valid integer > 0\")\n",
    "# elif(num==1):\n",
    "#     print(n1)\n",
    "# else: \n",
    "#     for i in range(num-2):   #0,1,2,3,4,5,6,7,8   0,1,1,2,3,5,8\n",
    "#         n3 = n1+n2\n",
    "#         print(n3)\n",
    "#         n1=n2\n",
    "#         n2=n3\n",
    "\n",
    "    \n",
    "############# WAPP to check the given number is prime or not\n",
    "# num = int(input(\"Number: \"))\n",
    "# flag=0\n",
    "# for i in range(2,num):\n",
    "#     if(num%i==0):\n",
    "#         flag=10\n",
    "#         break\n",
    "# if(flag):\n",
    "#     print(\"Not prime\")\n",
    "# else:\n",
    "#     print(\"Prime\")\n",
    "\n",
    "num1 = int(input(\"Start Number: \"))\n",
    "num2 = int(input(\"End Number: \"))\n",
    "\n",
    "for i in range(num1,num2+1):\n",
    "    flag=0\n",
    "    for j in range(2,i):\n",
    "        if(i%j==0):\n",
    "            flag=1\n",
    "            break\n",
    "    if(not flag):\n",
    "        print(i)\n",
    "\n"
   ]
  },
  {
   "cell_type": "markdown",
   "metadata": {},
   "source": [
    "## Patterns"
   ]
  },
  {
   "cell_type": "code",
   "execution_count": 146,
   "metadata": {},
   "outputs": [
    {
     "name": "stdout",
     "output_type": "stream",
     "text": [
      "Input: 10\n",
      "1 \n",
      "A B \n",
      "1 2 3 \n",
      "C D E F \n",
      "1 2 3 4 5 \n",
      "G H I J K L \n",
      "1 2 3 4 5 6 7 \n",
      "M N O P Q R S T \n",
      "1 2 3 4 5 6 7 8 9 \n",
      "U V W X Y Z [ \\ ] ^ \n"
     ]
    }
   ],
   "source": [
    "num = int(input(\"Input: \"))\n",
    "# k=65\n",
    "# for i in range(1,num+1):\n",
    "#     for j in range(1, i+1):\n",
    "#         print(chr(k), end=\" \")\n",
    "#         k+=1\n",
    "#     print()\n",
    "\n",
    "q=1\n",
    "# Straight ABC pyramid\n",
    "# for i in range(1,num+1):\n",
    "#     for k in range(0, num-i):\n",
    "#         print(end=\" \")\n",
    "#     for j in range(1, i+1):\n",
    "#         print(q, end=\" \")\n",
    "#         q+=1\n",
    "#     print()\n",
    "\n",
    "\n",
    "\n",
    "# for i in range(1, num+1):\n",
    "#     for j in range(1,i+1):\n",
    "#         print(end=\" \")\n",
    "#     for k in range(1, num-i):\n",
    "#         print(\"*\" , end=\"\")\n",
    "#     print()\n",
    "\n",
    "# for i in range(1, num+1):\n",
    "#     for j in range(0, num-i):\n",
    "#         print(end=\" \")\n",
    "#     for k in range(1, i):\n",
    "#         print(\"*\" , end=\"\")\n",
    "#     print()\n",
    "\n",
    "# k=65\n",
    "# for i in range(1,num+1):\n",
    "#     for j in range(1, i+1):\n",
    "#         if(not i%2==0):\n",
    "#             print(j, end=\" \")\n",
    "#         else:\n",
    "#             print(chr(j+64),end=\" \")\n",
    "#     print()\n",
    "    \n",
    "    \n",
    "    \n",
    "\n",
    "\n",
    "\n",
    "\n",
    "\n",
    "\n"
   ]
  },
  {
   "cell_type": "code",
   "execution_count": 151,
   "metadata": {},
   "outputs": [
    {
     "name": "stdout",
     "output_type": "stream",
     "text": [
      "a: 2\n",
      "n: 4\n",
      "1\n"
     ]
    }
   ],
   "source": [
    "############# WAPP to find an interger exponent x, such that this condition to be full filled.\n",
    "a = int(input(\"a: \"))\n",
    "b = int(input(\"n: \"))\n",
    "x = 1\n",
    "temp = 0\n",
    "while temp!=b:\n",
    "    temp = a*(x)\n",
    "    x+=1\n",
    "print(x-2)"
   ]
  }
 ],
 "metadata": {
  "kernelspec": {
   "display_name": "Python 3",
   "language": "python",
   "name": "python3"
  },
  "language_info": {
   "codemirror_mode": {
    "name": "ipython",
    "version": 3
   },
   "file_extension": ".py",
   "mimetype": "text/x-python",
   "name": "python",
   "nbconvert_exporter": "python",
   "pygments_lexer": "ipython3",
   "version": "3.8.5"
  }
 },
 "nbformat": 4,
 "nbformat_minor": 4
}
